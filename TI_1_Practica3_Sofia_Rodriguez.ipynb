{
  "cells": [
    {
      "cell_type": "markdown",
      "metadata": {
        "id": "view-in-github",
        "colab_type": "text"
      },
      "source": [
        "<a href=\"https://colab.research.google.com/github/SofiaRguez1020/Topicos_Industria_I/blob/main/TI_1_Practica3_Sofia_Rodriguez.ipynb\" target=\"_parent\"><img src=\"https://colab.research.google.com/assets/colab-badge.svg\" alt=\"Open In Colab\"/></a>"
      ]
    },
    {
      "cell_type": "markdown",
      "id": "bbeb0c1e",
      "metadata": {
        "id": "bbeb0c1e"
      },
      "source": [
        "# Práctica 3\n",
        "\n",
        "**Nombre:** Sofia Daniela Rodriguez Saenz\n",
        "\n",
        "**e-mail:** sofia.rodriguez5540@alumnos.udg.mx"
      ]
    },
    {
      "cell_type": "markdown",
      "id": "a31326d0",
      "metadata": {
        "id": "a31326d0"
      },
      "source": [
        "## MODULES"
      ]
    },
    {
      "cell_type": "code",
      "execution_count": null,
      "id": "9c33a472",
      "metadata": {
        "id": "9c33a472"
      },
      "outputs": [],
      "source": [
        "import math\n",
        "import numpy as np\n",
        "import pandas as pd\n",
        "\n",
        "import plotly.graph_objects as go\n",
        "\n",
        "from scipy.stats import wrapcauchy\n",
        "from scipy.stats import levy_stable\n",
        "\n",
        "from scipy.spatial import distance"
      ]
    },
    {
      "cell_type": "markdown",
      "id": "eea985c3",
      "metadata": {
        "id": "eea985c3"
      },
      "source": [
        "## CLASSES"
      ]
    },
    {
      "cell_type": "code",
      "execution_count": null,
      "id": "e2ee1ad4",
      "metadata": {
        "id": "e2ee1ad4"
      },
      "outputs": [],
      "source": [
        "################# http://www.pygame.org/wiki/2DVectorClass ##################\n",
        "class Vec2d(object):\n",
        "    \"\"\"2d vector class, supports vector and scalar operators,\n",
        "       and also provides a bunch of high level functions\n",
        "       \"\"\"\n",
        "    __slots__ = ['x', 'y']\n",
        "\n",
        "    def __init__(self, x_or_pair, y = None):\n",
        "        if y == None:\n",
        "            self.x = x_or_pair[0]\n",
        "            self.y = x_or_pair[1]\n",
        "        else:\n",
        "            self.x = x_or_pair\n",
        "            self.y = y\n",
        "\n",
        "    # Addition\n",
        "    def __add__(self, other):\n",
        "        if isinstance(other, Vec2d):\n",
        "            return Vec2d(self.x + other.x, self.y + other.y)\n",
        "        elif hasattr(other, \"__getitem__\"):\n",
        "            return Vec2d(self.x + other[0], self.y + other[1])\n",
        "        else:\n",
        "            return Vec2d(self.x + other, self.y + other)\n",
        "\n",
        "    # Subtraction\n",
        "    def __sub__(self, other):\n",
        "        if isinstance(other, Vec2d):\n",
        "            return Vec2d(self.x - other.x, self.y - other.y)\n",
        "        elif (hasattr(other, \"__getitem__\")):\n",
        "            return Vec2d(self.x - other[0], self.y - other[1])\n",
        "        else:\n",
        "            return Vec2d(self.x - other, self.y - other)\n",
        "\n",
        "    # Vector length\n",
        "    def get_length(self):\n",
        "        return math.sqrt(self.x**2 + self.y**2)\n",
        "\n",
        "    # rotate vector\n",
        "    def rotated(self, angle):\n",
        "        cos = math.cos(angle)\n",
        "        sin = math.sin(angle)\n",
        "        x = self.x*cos - self.y*sin\n",
        "        y = self.x*sin + self.y*cos\n",
        "        return Vec2d(x, y)"
      ]
    },
    {
      "cell_type": "markdown",
      "id": "9f102d39",
      "metadata": {
        "id": "9f102d39"
      },
      "source": [
        "## FUNCTIONS"
      ]
    },
    {
      "cell_type": "code",
      "execution_count": null,
      "id": "74b6b78e",
      "metadata": {
        "id": "74b6b78e",
        "colab": {
          "base_uri": "https://localhost:8080/",
          "height": 106
        },
        "outputId": "11cc88c7-adc9-4c78-dfd4-27633ade04df"
      },
      "outputs": [
        {
          "output_type": "error",
          "ename": "SyntaxError",
          "evalue": "invalid syntax (<ipython-input-4-a06e29637950>, line 14)",
          "traceback": [
            "\u001b[0;36m  File \u001b[0;32m\"<ipython-input-4-a06e29637950>\"\u001b[0;36m, line \u001b[0;32m14\u001b[0m\n\u001b[0;31m    vec_ab = #code here\u001b[0m\n\u001b[0m             ^\u001b[0m\n\u001b[0;31mSyntaxError\u001b[0m\u001b[0;31m:\u001b[0m invalid syntax\n"
          ]
        }
      ],
      "source": [
        "###############################################################################################\n",
        "# Turning angle\n",
        "# This function calculates the turning angle between three consecutive positions\n",
        "###############################################################################################\n",
        "def turning_angle(pos_a, pos_b, pos_c):\n",
        "    \"\"\"\n",
        "    Arguments:\n",
        "        pos_a: First position coordinates\n",
        "        pos_b: Second position coordinates\n",
        "        pos_c: Third position coordinates\n",
        "    Returns:\n",
        "        theta: Turning angle\n",
        "    \"\"\"\n",
        "    vec_ab = #code here\n",
        "    norm_ab = #code here\n",
        "\n",
        "    vec_bc = #code here\n",
        "    norm_bc = #code here\n",
        "\n",
        "    dot_p = #code here\n",
        "\n",
        "    # Nota: Evitar division por cero con np.finfo(float).eps\n",
        "    cos_theta = #code here\n",
        "\n",
        "    # Angle orientation\n",
        "    cross_p = #code here\n",
        "    orient = np.sign(cross_p)\n",
        "    if orient == 0:\n",
        "        orient = 1\n",
        "\n",
        "    theta = np.arccos(np.around(cos_theta,4)) * orient\n",
        "    return theta\n",
        "\n"
      ]
    },
    {
      "cell_type": "code",
      "source": [
        "###############################################################################################\n",
        "# Brownian Motion\n",
        "# This function generates a BM walk\n",
        "###############################################################################################\n",
        "def bm_2d(n_steps=1000, speed=5, s_pos=[0,0]):\n",
        "  \"\"\"\n",
        "  Arguments:\n",
        "    n_steps: number of steps the Brownian Trajectory will take -> int\n",
        "    speed: speed of the trajectory or step size -> int\n",
        "    s_pos: initial position -> [x,y] list\n",
        "  Returns:\n",
        "    BM_2d_df: DataFrame with x,y points of the full trajectory\n",
        "  \"\"\"\n",
        "\n",
        "  # Init velocity vector\n",
        "  velocity = Vec2d(speed, 0)\n",
        "\n",
        "  BM_2d_df = pd.DataFrame(columns = ['x_pos', 'y_pos'])\n",
        "  temp_df = pd.DataFrame([{'x_pos': s_pos[0], 'y_pos': s_pos[1]}])\n",
        "\n",
        "  BM_2d_df = pd.concat([BM_2d_df, temp_df], ignore_index=True)\n",
        "\n",
        "  for i in range(n_steps-1):\n",
        "    turn_angle = np.random.uniform(low=-np.pi, high=np.pi)\n",
        "    velocity = velocity.rotated(turn_angle)\n",
        "\n",
        "    temp_df = pd.DataFrame([{'x_pos': BM_2d_df.x_pos[i]+velocity.x, 'y_pos': BM_2d_df.y_pos[i]+velocity.y}])\n",
        "\n",
        "    BM_2d_df = pd.concat([BM_2d_df, temp_df], ignore_index=True)\n",
        "\n",
        "  return BM_2d_df"
      ],
      "metadata": {
        "id": "odl-hdKU2rIZ"
      },
      "id": "odl-hdKU2rIZ",
      "execution_count": null,
      "outputs": []
    },
    {
      "cell_type": "code",
      "source": [
        "###############################################################################################\n",
        "# Correlated Random Walk\n",
        "# This function generates a CRW Walk\n",
        "###############################################################################################\n",
        "def crw(n_steps=1000, speed=5, s_pos=[0,0], n_traj = 1):\n",
        "  \"\"\"\n",
        "  Arguments:\n",
        "    n_steps: number of steps the Brownian Trajectory will take -> int\n",
        "    speed: speed of the trajectory or step size -> int\n",
        "    s_pos: initial position -> [x,y] list\n",
        "    n_traj: number of trajectories to be genetared\n",
        "  Returns:\n",
        "    CRW_df: DataFrame with x,y points of the full trajectory\n",
        "  \"\"\"\n",
        "  #Init DFs\n",
        "  CRW_df = pd.DataFrame(columns=['Cauchy', 'x_pos', 'y_pos'])\n",
        "\n",
        "  for traj in range(n_traj):\n",
        "    #Randomly select CRW\n",
        "    CRW_exponent = np.random.uniform(low=0, high=1)\n",
        "\n",
        "    # Init velocity vector\n",
        "    velocity = Vec2d(speed,0)\n",
        "\n",
        "    #Init temp data array\n",
        "    temp = np.ones(shape=(n_steps,2))*s_pos\n",
        "\n",
        "    for i in range(1, n_steps):\n",
        "      # Select turn angle\n",
        "      turn_angle = wrapcauchy.rvs(c=CRW_exponent)\n",
        "      #\n",
        "      velocity = velocity.rotated(turn_angle)\n",
        "      #Update position\n",
        "      temp[i,0] = temp[i-1,0]+velocity.x\n",
        "      temp[i,1] = temp[i-1,1]+velocity.y\n",
        "\n",
        "    traj_df = pd.DataFrame({'Cauchy':CRW_exponent, 'x_pos':[temp[:,0]], 'y_pos':[temp[:,1]]})\n",
        "    CRW_df = pd.concat ([CRW_df,traj_df], ignore_index=True)"
      ],
      "metadata": {
        "id": "xsuH15Lr6Ndq"
      },
      "id": "xsuH15Lr6Ndq",
      "execution_count": null,
      "outputs": []
    },
    {
      "cell_type": "code",
      "source": [
        "#######################################################################################################\n",
        "# Path length calculation\n",
        "# This function estimates the total path length based on euclidean distance between consecutive steps\n",
        "#######################################################################################################\n",
        "def path_length(trajectory):\n",
        "  \"\"\"\n",
        "  Arguments:\n",
        "    trajectory: Data set containing complete trajectory\n",
        "  Returns:\n",
        "    distance: calculated euclidean distance between 2 points\n",
        "  \"\"\"\n",
        "  dis_aux = []\n",
        "  for i in range (1,trajectory.shape[0]):\n",
        "    a2 = (trajectory.iloc[i-1][0] - trajectory.iloc[i][0])**2\n",
        "    b2 = (trajectory.iloc[i-1][1] - trajectory.iloc[i][1])**2\n",
        "    c = math.sqrt(a2+b2)\n",
        "    dis_aux.append(c)\n",
        "  return (np.cumsum(dis_aux))\n"
      ],
      "metadata": {
        "id": "dkssKqK-d6Sf"
      },
      "id": "dkssKqK-d6Sf",
      "execution_count": 31,
      "outputs": []
    },
    {
      "cell_type": "markdown",
      "id": "680109c9",
      "metadata": {
        "id": "680109c9"
      },
      "source": [
        "## Actividad 1: Path Length - (BM1 vs BM2 vs CRW) (4 pts)\n",
        "\n",
        "* Implementar función que genere **Brownian Motions** (BM) utilizando **pandas**.\n",
        "* Implementar función que genere **Correlated Random Walks** (CRW) utilizando pandas.\n",
        "* Implementar una función alternativa a las ya disponibles en los distintos modulos de python que calcule los valores de la curva de **path length** de una trayectoria.\n",
        "* Guardar los valores de la métrica en un Data Frame de **pandas**.\n",
        "* Visualizar con **plotly**."
      ]
    },
    {
      "cell_type": "code",
      "execution_count": 10,
      "id": "58627d1c",
      "metadata": {
        "id": "58627d1c"
      },
      "outputs": [],
      "source": [
        "# Load existing trajectories to test your implementation\n",
        "# BM speed = 3\n",
        "BM_2d_df_3 = pd.read_csv('drive/MyDrive/Files_colab/brownian_3.csv')\n",
        "\n",
        "# Load existing trajectories to test your implementation\n",
        "# BM speed = 6\n",
        "BM_2d_df_6 = pd.read_csv('drive/MyDrive/Files_colab/brownian_6.csv')\n",
        "\n",
        "# Load existing trajectories to test your implementation\n",
        "CRW_2d_df_9 = pd.read_csv('drive/MyDrive/Files_colab/crw_6_9.csv')"
      ]
    },
    {
      "cell_type": "code",
      "execution_count": null,
      "id": "02014f44",
      "metadata": {
        "id": "02014f44"
      },
      "outputs": [],
      "source": [
        "# Define your function to compute path length for given trajectory\n",
        "#  *****************See Function section*********************"
      ]
    },
    {
      "cell_type": "code",
      "execution_count": 32,
      "id": "d2b16522",
      "metadata": {
        "id": "d2b16522"
      },
      "outputs": [],
      "source": [
        "# Get Path length calling the function\n",
        "PL_BM_3 = path_length(BM_2d_df_3)# Add your code here function(BM_2d_df_3)\n",
        "\n",
        "# Get Path length calling the function\n",
        "PL_BM_6 = path_length(BM_2d_df_6)# Add your code here function(BM_2d_df_6)\n",
        "\n",
        "# Get Path length calling the function\n",
        "PL_CRW_6 = path_length(CRW_2d_df_9)# Add your code here function(CRW_2d_df_9)"
      ]
    },
    {
      "cell_type": "code",
      "source": [
        "print(PL_BM_3)"
      ],
      "metadata": {
        "colab": {
          "base_uri": "https://localhost:8080/"
        },
        "id": "EfhDtTBOl-sw",
        "outputId": "9127ce0c-366a-4161-8998-43a79bd9ae8b"
      },
      "id": "EfhDtTBOl-sw",
      "execution_count": 33,
      "outputs": [
        {
          "output_type": "stream",
          "name": "stdout",
          "text": [
            "[   3.    6.    9.   12.   15.   18.   21.   24.   27.   30.   33.   36.\n",
            "   39.   42.   45.   48.   51.   54.   57.   60.   63.   66.   69.   72.\n",
            "   75.   78.   81.   84.   87.   90.   93.   96.   99.  102.  105.  108.\n",
            "  111.  114.  117.  120.  123.  126.  129.  132.  135.  138.  141.  144.\n",
            "  147.  150.  153.  156.  159.  162.  165.  168.  171.  174.  177.  180.\n",
            "  183.  186.  189.  192.  195.  198.  201.  204.  207.  210.  213.  216.\n",
            "  219.  222.  225.  228.  231.  234.  237.  240.  243.  246.  249.  252.\n",
            "  255.  258.  261.  264.  267.  270.  273.  276.  279.  282.  285.  288.\n",
            "  291.  294.  297.  300.  303.  306.  309.  312.  315.  318.  321.  324.\n",
            "  327.  330.  333.  336.  339.  342.  345.  348.  351.  354.  357.  360.\n",
            "  363.  366.  369.  372.  375.  378.  381.  384.  387.  390.  393.  396.\n",
            "  399.  402.  405.  408.  411.  414.  417.  420.  423.  426.  429.  432.\n",
            "  435.  438.  441.  444.  447.  450.  453.  456.  459.  462.  465.  468.\n",
            "  471.  474.  477.  480.  483.  486.  489.  492.  495.  498.  501.  504.\n",
            "  507.  510.  513.  516.  519.  522.  525.  528.  531.  534.  537.  540.\n",
            "  543.  546.  549.  552.  555.  558.  561.  564.  567.  570.  573.  576.\n",
            "  579.  582.  585.  588.  591.  594.  597.  600.  603.  606.  609.  612.\n",
            "  615.  618.  621.  624.  627.  630.  633.  636.  639.  642.  645.  648.\n",
            "  651.  654.  657.  660.  663.  666.  669.  672.  675.  678.  681.  684.\n",
            "  687.  690.  693.  696.  699.  702.  705.  708.  711.  714.  717.  720.\n",
            "  723.  726.  729.  732.  735.  738.  741.  744.  747.  750.  753.  756.\n",
            "  759.  762.  765.  768.  771.  774.  777.  780.  783.  786.  789.  792.\n",
            "  795.  798.  801.  804.  807.  810.  813.  816.  819.  822.  825.  828.\n",
            "  831.  834.  837.  840.  843.  846.  849.  852.  855.  858.  861.  864.\n",
            "  867.  870.  873.  876.  879.  882.  885.  888.  891.  894.  897.  900.\n",
            "  903.  906.  909.  912.  915.  918.  921.  924.  927.  930.  933.  936.\n",
            "  939.  942.  945.  948.  951.  954.  957.  960.  963.  966.  969.  972.\n",
            "  975.  978.  981.  984.  987.  990.  993.  996.  999. 1002. 1005. 1008.\n",
            " 1011. 1014. 1017. 1020. 1023. 1026. 1029. 1032. 1035. 1038. 1041. 1044.\n",
            " 1047. 1050. 1053. 1056. 1059. 1062. 1065. 1068. 1071. 1074. 1077. 1080.\n",
            " 1083. 1086. 1089. 1092. 1095. 1098. 1101. 1104. 1107. 1110. 1113. 1116.\n",
            " 1119. 1122. 1125. 1128. 1131. 1134. 1137. 1140. 1143. 1146. 1149. 1152.\n",
            " 1155. 1158. 1161. 1164. 1167. 1170. 1173. 1176. 1179. 1182. 1185. 1188.\n",
            " 1191. 1194. 1197. 1200. 1203. 1206. 1209. 1212. 1215. 1218. 1221. 1224.\n",
            " 1227. 1230. 1233. 1236. 1239. 1242. 1245. 1248. 1251. 1254. 1257. 1260.\n",
            " 1263. 1266. 1269. 1272. 1275. 1278. 1281. 1284. 1287. 1290. 1293. 1296.\n",
            " 1299. 1302. 1305. 1308. 1311. 1314. 1317. 1320. 1323. 1326. 1329. 1332.\n",
            " 1335. 1338. 1341. 1344. 1347. 1350. 1353. 1356. 1359. 1362. 1365. 1368.\n",
            " 1371. 1374. 1377. 1380. 1383. 1386. 1389. 1392. 1395. 1398. 1401. 1404.\n",
            " 1407. 1410. 1413. 1416. 1419. 1422. 1425. 1428. 1431. 1434. 1437. 1440.\n",
            " 1443. 1446. 1449. 1452. 1455. 1458. 1461. 1464. 1467. 1470. 1473. 1476.\n",
            " 1479. 1482. 1485. 1488. 1491. 1494. 1497. 1500. 1503. 1506. 1509. 1512.\n",
            " 1515. 1518. 1521. 1524. 1527. 1530. 1533. 1536. 1539. 1542. 1545. 1548.\n",
            " 1551. 1554. 1557. 1560. 1563. 1566. 1569. 1572. 1575. 1578. 1581. 1584.\n",
            " 1587. 1590. 1593. 1596. 1599. 1602. 1605. 1608. 1611. 1614. 1617. 1620.\n",
            " 1623. 1626. 1629. 1632. 1635. 1638. 1641. 1644. 1647. 1650. 1653. 1656.\n",
            " 1659. 1662. 1665. 1668. 1671. 1674. 1677. 1680. 1683. 1686. 1689. 1692.\n",
            " 1695. 1698. 1701. 1704. 1707. 1710. 1713. 1716. 1719. 1722. 1725. 1728.\n",
            " 1731. 1734. 1737. 1740. 1743. 1746. 1749. 1752. 1755. 1758. 1761. 1764.\n",
            " 1767. 1770. 1773. 1776. 1779. 1782. 1785. 1788. 1791. 1794. 1797. 1800.\n",
            " 1803. 1806. 1809. 1812. 1815. 1818. 1821. 1824. 1827. 1830. 1833. 1836.\n",
            " 1839. 1842. 1845. 1848. 1851. 1854. 1857. 1860. 1863. 1866. 1869. 1872.\n",
            " 1875. 1878. 1881. 1884. 1887. 1890. 1893. 1896. 1899. 1902. 1905. 1908.\n",
            " 1911. 1914. 1917. 1920. 1923. 1926. 1929. 1932. 1935. 1938. 1941. 1944.\n",
            " 1947. 1950. 1953. 1956. 1959. 1962. 1965. 1968. 1971. 1974. 1977. 1980.\n",
            " 1983. 1986. 1989. 1992. 1995. 1998. 2001. 2004. 2007. 2010. 2013. 2016.\n",
            " 2019. 2022. 2025. 2028. 2031. 2034. 2037. 2040. 2043. 2046. 2049. 2052.\n",
            " 2055. 2058. 2061. 2064. 2067. 2070. 2073. 2076. 2079. 2082. 2085. 2088.\n",
            " 2091. 2094. 2097. 2100. 2103. 2106. 2109. 2112. 2115. 2118. 2121. 2124.\n",
            " 2127. 2130. 2133. 2136. 2139. 2142. 2145. 2148. 2151. 2154. 2157. 2160.\n",
            " 2163. 2166. 2169. 2172. 2175. 2178. 2181. 2184. 2187. 2190. 2193. 2196.\n",
            " 2199. 2202. 2205. 2208. 2211. 2214. 2217. 2220. 2223. 2226. 2229. 2232.\n",
            " 2235. 2238. 2241. 2244. 2247. 2250. 2253. 2256. 2259. 2262. 2265. 2268.\n",
            " 2271. 2274. 2277. 2280. 2283. 2286. 2289. 2292. 2295. 2298. 2301. 2304.\n",
            " 2307. 2310. 2313. 2316. 2319. 2322. 2325. 2328. 2331. 2334. 2337. 2340.\n",
            " 2343. 2346. 2349. 2352. 2355. 2358. 2361. 2364. 2367. 2370. 2373. 2376.\n",
            " 2379. 2382. 2385. 2388. 2391. 2394. 2397. 2400. 2403. 2406. 2409. 2412.\n",
            " 2415. 2418. 2421. 2424. 2427. 2430. 2433. 2436. 2439. 2442. 2445. 2448.\n",
            " 2451. 2454. 2457. 2460. 2463. 2466. 2469. 2472. 2475. 2478. 2481. 2484.\n",
            " 2487. 2490. 2493. 2496. 2499. 2502. 2505. 2508. 2511. 2514. 2517. 2520.\n",
            " 2523. 2526. 2529. 2532. 2535. 2538. 2541. 2544. 2547. 2550. 2553. 2556.\n",
            " 2559. 2562. 2565. 2568. 2571. 2574. 2577. 2580. 2583. 2586. 2589. 2592.\n",
            " 2595. 2598. 2601. 2604. 2607. 2610. 2613. 2616. 2619. 2622. 2625. 2628.\n",
            " 2631. 2634. 2637. 2640. 2643. 2646. 2649. 2652. 2655. 2658. 2661. 2664.\n",
            " 2667. 2670. 2673. 2676. 2679. 2682. 2685. 2688. 2691. 2694. 2697. 2700.\n",
            " 2703. 2706. 2709. 2712. 2715. 2718. 2721. 2724. 2727. 2730. 2733. 2736.\n",
            " 2739. 2742. 2745. 2748. 2751. 2754. 2757. 2760. 2763. 2766. 2769. 2772.\n",
            " 2775. 2778. 2781. 2784. 2787. 2790. 2793. 2796. 2799. 2802. 2805. 2808.\n",
            " 2811. 2814. 2817. 2820. 2823. 2826. 2829. 2832. 2835. 2838. 2841. 2844.\n",
            " 2847. 2850. 2853. 2856. 2859. 2862. 2865. 2868. 2871. 2874. 2877. 2880.\n",
            " 2883. 2886. 2889. 2892. 2895. 2898. 2901. 2904. 2907. 2910. 2913. 2916.\n",
            " 2919. 2922. 2925. 2928. 2931. 2934. 2937. 2940. 2943. 2946. 2949. 2952.\n",
            " 2955. 2958. 2961. 2964. 2967. 2970. 2973. 2976. 2979. 2982. 2985. 2988.\n",
            " 2991. 2994. 2997.]\n"
          ]
        }
      ]
    },
    {
      "cell_type": "code",
      "execution_count": null,
      "id": "682d77ce",
      "metadata": {
        "id": "682d77ce"
      },
      "outputs": [],
      "source": [
        "# Plotting\n",
        "# Init figure\n",
        "fig_path_length = go.Figure()\n",
        "\n",
        "# First trace BM1\n",
        "## start - Add your code here\n",
        "\n",
        "## end - Add your code here\n",
        "\n",
        "\n",
        "# Second trace BM2\n",
        "## start - Add your code here\n",
        "\n",
        "## end - Add your code here\n",
        "\n",
        "\n",
        "# Third trace CRW\n",
        "## start - Add your code here\n",
        "\n",
        "## end - Add your code here\n",
        "\n",
        "\n",
        "fig_path_length.show()"
      ]
    },
    {
      "cell_type": "markdown",
      "id": "c4ea7d32",
      "metadata": {
        "id": "c4ea7d32"
      },
      "source": [
        "## Actividad 2: Mean Squared Displacement - (Brownian vs CRW) (4 pts)\n",
        "\n",
        "* Generar una trayectoria tipo **BM** y una **CRW**.\n",
        "* Implementar una función que calcule los valores de la curva de **mean squared displacement** de una trayectoria.\n",
        "* Guardar metricas en Pandas Data Frame.\n",
        "* Visualizar con **plotly**."
      ]
    },
    {
      "cell_type": "code",
      "execution_count": null,
      "id": "7c5082a3",
      "metadata": {
        "id": "7c5082a3"
      },
      "outputs": [],
      "source": [
        "# Load existing trajectories to test your implementation\n",
        "# BM speed = 6\n",
        "BM_2d_df_6 = pd.read_csv('trajectories/brownian_6.csv')\n",
        "\n",
        "# Load existing trajectories to test your implementation\n",
        "# CRW speed = 6, c = 0.9\n",
        "CRW_2d_df_9 = pd.read_csv('trajectories/crw_6_9.csv')"
      ]
    },
    {
      "cell_type": "code",
      "execution_count": null,
      "id": "b0cabe00",
      "metadata": {
        "id": "b0cabe00"
      },
      "outputs": [],
      "source": [
        "# Show trajectories\n",
        "# Init figure\n",
        "fig_3d = go.Figure()\n",
        "\n",
        "# Plot trajectory in 3-D space\n",
        "fig_3d.add_trace(\n",
        "    go.Scatter3d(x = BM_2d_df_6.x_pos,\n",
        "                 y = BM_2d_df_6.y_pos,\n",
        "                 z = BM_2d_df_6.index,\n",
        "                 marker = dict(size=2),\n",
        "                 line = dict(color='blue', width=2),\n",
        "                 mode = 'lines',\n",
        "                 name = 'BM 2d',\n",
        "                 showlegend = True))\n",
        "\n",
        "\n",
        "fig_3d.add_trace(\n",
        "    go.Scatter3d(x = CRW_2d_df_9.x_pos,\n",
        "                 y = CRW_2d_df_9.y_pos,\n",
        "                 z = CRW_2d_df_9.index,\n",
        "                 marker = dict(size=2),\n",
        "                 line = dict(color='red', width=2),\n",
        "                 mode = 'lines',\n",
        "                 name = 'CRW 2d',\n",
        "                 showlegend = True))\n",
        "\n",
        "fig_3d.show()"
      ]
    },
    {
      "cell_type": "code",
      "execution_count": null,
      "id": "c3b6784f",
      "metadata": {
        "id": "c3b6784f"
      },
      "outputs": [],
      "source": [
        "# Define your function to compute Mean Squared Displacement for given trajectory\n",
        "\n",
        "## start - Add your code here\n",
        "# def function (trajectory):\n",
        "\n",
        "\n",
        "    #return MSD_df\n",
        "\n",
        "## end - Add your code here"
      ]
    },
    {
      "cell_type": "code",
      "execution_count": null,
      "id": "9d898baf",
      "metadata": {
        "id": "9d898baf"
      },
      "outputs": [],
      "source": [
        "# Get Mean Squared Displacement calling the function\n",
        "MSD_BM = # Add your code here function(BM_2d_df_6)\n",
        "\n",
        "# Get Mean Squared Displacement calling the function\n",
        "MSD_CRW = # Add your code here function(CRW_2d_df_9)"
      ]
    },
    {
      "cell_type": "code",
      "execution_count": null,
      "id": "128360f4",
      "metadata": {
        "id": "128360f4"
      },
      "outputs": [],
      "source": [
        "# Init figure\n",
        "fig_path_length = go.Figure()\n",
        "\n",
        "# first trace MSD_BM\n",
        "## start - Add your code here\n",
        "\n",
        "## end - Add your code here\n",
        "\n",
        "\n",
        "# Second trace MSD_CRW\n",
        "## start - Add your code here\n",
        "\n",
        "## end - Add your code here\n",
        "\n",
        "\n",
        "fig_path_length.show()"
      ]
    },
    {
      "cell_type": "markdown",
      "id": "bcc0bb18",
      "metadata": {
        "id": "bcc0bb18"
      },
      "source": [
        "## Actividad 3: Turning-angle Distribution - (Dist. origen vs Dist. observada) (6 pts)\n",
        "\n",
        "* Generar **CRWs** con dos exponentes diferentes\n",
        "* Guardar trayectorias en **Pandas** Data Frame\n",
        "* Implementar una función que calcule los valores de **turning angle** de una trayectoria.\n",
        "* Comparar en gráfica distribución origen vs distribución observada (Histograma)\n",
        "* Visualizar con **plotly**"
      ]
    },
    {
      "cell_type": "code",
      "execution_count": null,
      "id": "147f549b",
      "metadata": {
        "id": "147f549b"
      },
      "outputs": [],
      "source": [
        "# Load existing trajectories to test your implementation\n",
        "# CRW speed = 6,\n",
        "# wrapcauchy [c = 0.6]\n",
        "CRW_2d_df_6 = pd.read_csv('trajectories/crw_6_6.csv')\n",
        "\n",
        "# Load existing trajectories to test your implementation\n",
        "# CRW speed = 6,\n",
        "# wrapcauchy [c = 0.9]\n",
        "CRW_2d_df_9 = pd.read_csv('trajectories/crw_6_9.csv')"
      ]
    },
    {
      "cell_type": "code",
      "execution_count": null,
      "id": "82d7c0e9",
      "metadata": {
        "id": "82d7c0e9"
      },
      "outputs": [],
      "source": [
        "# aux to store turning angles\n",
        "aux_ta_CRW_2d_df_6 = np.empty(shape=(0))\n",
        "\n",
        "\n",
        "# Iterate over trajectory compute turning angles\n",
        "for index, row in CRW_2d_df_6[1:-1].iterrows():\n",
        "    ## start - Add your code here\n",
        "\n",
        "    ## end - Add your code here\n",
        "\n",
        "# aux to store turning angles\n",
        "aux_ta_CRW_2d_df_9 = np.empty(shape=(0))\n",
        "\n",
        "\n",
        "\n",
        "## start - Add your code here\n",
        "\n",
        "## end - Add your code here"
      ]
    },
    {
      "cell_type": "code",
      "execution_count": null,
      "id": "8e442503",
      "metadata": {
        "id": "8e442503"
      },
      "outputs": [],
      "source": [
        "# Define your function to compute Turning Angles for given trajectory\n",
        "\n",
        "## start - Add your code here\n",
        "# def function (trajectory):\n",
        "\n",
        "\n",
        "    #return ta_df\n",
        "\n",
        "## end - Add your code here"
      ]
    },
    {
      "cell_type": "code",
      "execution_count": null,
      "id": "71f1f594",
      "metadata": {
        "id": "71f1f594"
      },
      "outputs": [],
      "source": [
        "# Get Turning Angles calling the function\n",
        "ta_CRW_2d_df_6 = # Add your code here function(CRW_2d_df_6)\n",
        "\n",
        "# Get Turning Angles calling the function\n",
        "ta_CRW_2d_df_9 = # Add your code here function(CRW_2d_df_9)"
      ]
    },
    {
      "cell_type": "code",
      "execution_count": null,
      "id": "d0689013",
      "metadata": {
        "id": "d0689013"
      },
      "outputs": [],
      "source": [
        "# Check documentation\n",
        "# https://plotly.com/python/histograms/\n",
        "\n",
        "# PLot histogram\n",
        "fig_met_df_3 = go.Figure()\n",
        "\n",
        "\n",
        "# Histogram turning angle CRW_2d_df_6\n",
        "## start - Add your code here\n",
        "\n",
        "## end - Add your code here\n",
        "\n",
        "\n",
        "# Histogram turning angle CRW_2d_df_9\n",
        "## start - Add your code here\n",
        "\n",
        "## end - Add your code here\n",
        "\n",
        "\n",
        "# Add origin distributions\n",
        "## start - Add your code here\n",
        "\n",
        "## end - Add your code here\n",
        "\n",
        "\n",
        "fig_met_df_3.show()"
      ]
    },
    {
      "cell_type": "markdown",
      "id": "6bc5c5b6",
      "metadata": {
        "id": "6bc5c5b6"
      },
      "source": [
        "## Actividad 4: Step-length Distribution - (Dist. origen vs Dist. observada) (6 pts)\n",
        "\n",
        "* Implementar función que genere **Lévy Walks** (LW) utilizando pandas.\n",
        "* Guardar trayectorias en Pandas Data Frame.\n",
        "* Implementar una función que calcule los valores de **step lenght** de una trayectoria.\n",
        "* Guardar trayectorias en **pandas** Data Frame.\n",
        "* Obtener **Step-length** distribution.\n",
        "* Comparar en gráfica distribución origen vs distribución observada (Histograma).\n",
        "* Visualizar con plotly."
      ]
    },
    {
      "cell_type": "code",
      "execution_count": null,
      "id": "68b774d1",
      "metadata": {
        "id": "68b774d1"
      },
      "outputs": [],
      "source": [
        "# Load existing trajectories to test your implementation\n",
        "# Levy speed = 6\n",
        "# levy_stable [alpha=1.0, beta=1.0, loc=3.0]\n",
        "Levy_2d_df_1 = pd.read_csv('trajectories/levy_6_1.csv')\n",
        "\n",
        "# Load existing trajectories to test your implementation\n",
        "# Levy speed = 6\n",
        "# levy_stable [alpha=0.7, beta=1.0, loc=3.0]\n",
        "Levy_2d_df_7 = pd.read_csv('trajectories/levy_6_7.csv')"
      ]
    },
    {
      "cell_type": "code",
      "execution_count": null,
      "id": "8a6874d5",
      "metadata": {
        "id": "8a6874d5"
      },
      "outputs": [],
      "source": [
        "# Define your function to compute Step lengths for given trajectory\n",
        "\n",
        "## start - Add your code here\n",
        "# def function (trajectory):\n",
        "\n",
        "\n",
        "    #return sl_df\n",
        "\n",
        "## end - Add your code here"
      ]
    },
    {
      "cell_type": "code",
      "execution_count": null,
      "id": "fa07a12a",
      "metadata": {
        "id": "fa07a12a"
      },
      "outputs": [],
      "source": [
        "# Get Step lengths calling the function\n",
        "sl_Levy_2d_df_1 = # Add your code here function(Levy_2d_df_1)\n",
        "\n",
        "# Get Step lengths calling the function\n",
        "sl_Levy_2d_df_7 = # Add your code here function(Levy_2d_df_7)"
      ]
    },
    {
      "cell_type": "code",
      "execution_count": null,
      "id": "0a628fe5",
      "metadata": {
        "id": "0a628fe5"
      },
      "outputs": [],
      "source": [
        "# PLot histogram\n",
        "fig_met_df_4 = go.Figure()\n",
        "\n",
        "# Histogram step-length Levy_2d_df_1\n",
        "## start - Add your code here\n",
        "\n",
        "## end - Add your code here\n",
        "\n",
        "\n",
        "# Histogram step-length Levy_2d_df_7\n",
        "## start - Add your code here\n",
        "\n",
        "## end - Add your code here\n",
        "\n",
        "\n",
        "# Add origin distributions\n",
        "## start - Add your code here\n",
        "\n",
        "## end - Add your code here\n",
        "\n",
        "\n",
        "fig_met_df_4.show()"
      ]
    }
  ],
  "metadata": {
    "colab": {
      "provenance": [],
      "include_colab_link": true
    },
    "kernelspec": {
      "display_name": "py310_nb",
      "language": "python",
      "name": "py310_nb"
    },
    "language_info": {
      "codemirror_mode": {
        "name": "ipython",
        "version": 3
      },
      "file_extension": ".py",
      "mimetype": "text/x-python",
      "name": "python",
      "nbconvert_exporter": "python",
      "pygments_lexer": "ipython3",
      "version": "3.10.5"
    }
  },
  "nbformat": 4,
  "nbformat_minor": 5
}