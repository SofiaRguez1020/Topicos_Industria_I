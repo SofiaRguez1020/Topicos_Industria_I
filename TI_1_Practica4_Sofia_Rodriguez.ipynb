{
  "nbformat": 4,
  "nbformat_minor": 0,
  "metadata": {
    "colab": {
      "provenance": [],
      "authorship_tag": "ABX9TyN0vSnk48cl+MyV0Ssibz+l",
      "include_colab_link": true
    },
    "kernelspec": {
      "name": "python3",
      "display_name": "Python 3"
    },
    "language_info": {
      "name": "python"
    }
  },
  "cells": [
    {
      "cell_type": "markdown",
      "metadata": {
        "id": "view-in-github",
        "colab_type": "text"
      },
      "source": [
        "<a href=\"https://colab.research.google.com/github/SofiaRguez1020/Topicos_Industria_I/blob/main/TI_1_Practica4_Sofia_Rodriguez.ipynb\" target=\"_parent\"><img src=\"https://colab.research.google.com/assets/colab-badge.svg\" alt=\"Open In Colab\"/></a>"
      ]
    },
    {
      "cell_type": "markdown",
      "source": [
        "# Práctica 4\n",
        "\n",
        "**Nombre:** Sofia Daniela Rodriguez Saenz\n",
        "\n",
        "**e-mail:** sofia.rodriguez5540@alumnos.udg.mx"
      ],
      "metadata": {
        "id": "mbsklQQtGy9R"
      }
    },
    {
      "cell_type": "markdown",
      "source": [
        "# MODULES"
      ],
      "metadata": {
        "id": "1uLI53-AG942"
      }
    },
    {
      "cell_type": "code",
      "source": [
        "import math\n",
        "import numpy as np\n",
        "import pandas as pd\n",
        "\n",
        "import plotly.graph_objects as go\n",
        "\n",
        "from scipy.stats import wrapcauchy\n",
        "from scipy.stats import cauchy\n",
        "from scipy.stats import levy_stable\n",
        "\n",
        "from scipy.spatial import distance"
      ],
      "metadata": {
        "id": "4lVfvlBhG8i3"
      },
      "execution_count": 1,
      "outputs": []
    },
    {
      "cell_type": "markdown",
      "source": [
        "# CLASSES"
      ],
      "metadata": {
        "id": "UdAtQ700HFZb"
      }
    },
    {
      "cell_type": "code",
      "source": [
        "################# http://www.pygame.org/wiki/2DVectorClass ##################\n",
        "class Vec2d(object):\n",
        "    \"\"\"2d vector class, supports vector and scalar operators,\n",
        "       and also provides a bunch of high level functions\n",
        "       \"\"\"\n",
        "    __slots__ = ['x', 'y']\n",
        "\n",
        "    def __init__(self, x_or_pair, y = None):\n",
        "        if y == None:\n",
        "            self.x = x_or_pair[0]\n",
        "            self.y = x_or_pair[1]\n",
        "        else:\n",
        "            self.x = x_or_pair\n",
        "            self.y = y\n",
        "\n",
        "    # Addition\n",
        "    def __add__(self, other):\n",
        "        if isinstance(other, Vec2d):\n",
        "            return Vec2d(self.x + other.x, self.y + other.y)\n",
        "        elif hasattr(other, \"__getitem__\"):\n",
        "            return Vec2d(self.x + other[0], self.y + other[1])\n",
        "        else:\n",
        "            return Vec2d(self.x + other, self.y + other)\n",
        "\n",
        "    # Subtraction\n",
        "    def __sub__(self, other):\n",
        "        if isinstance(other, Vec2d):\n",
        "            return Vec2d(self.x - other.x, self.y - other.y)\n",
        "        elif (hasattr(other, \"__getitem__\")):\n",
        "            return Vec2d(self.x - other[0], self.y - other[1])\n",
        "        else:\n",
        "            return Vec2d(self.x - other, self.y - other)\n",
        "\n",
        "    # Vector length\n",
        "    def get_length(self):\n",
        "        return math.sqrt(self.x**2 + self.y**2)\n",
        "\n",
        "    # rotate vector\n",
        "    def rotated(self, angle):\n",
        "        cos = math.cos(angle)\n",
        "        sin = math.sin(angle)\n",
        "        x = self.x*cos - self.y*sin\n",
        "        y = self.x*sin + self.y*cos\n",
        "        return Vec2d(x, y)"
      ],
      "metadata": {
        "id": "10xAdfRKHm-O"
      },
      "execution_count": 2,
      "outputs": []
    },
    {
      "cell_type": "markdown",
      "source": [
        "# FUNCTIONS"
      ],
      "metadata": {
        "id": "G_21uhMkHqtp"
      }
    },
    {
      "cell_type": "code",
      "source": [
        "###############################################################################################\n",
        "# Brownian Motion\n",
        "# This function generates a BM walk\n",
        "###############################################################################################\n",
        "def bm_2d(n_steps=1000, speed=5, s_pos=[0,0]):\n",
        "  \"\"\"\n",
        "  Arguments:\n",
        "    n_steps: number of steps the Brownian Trajectory will take -> int\n",
        "    speed: speed of the trajectory or step size -> int\n",
        "    s_pos: initial position -> [x,y] list\n",
        "  Returns:\n",
        "    BM_2d_df: DataFrame with x,y points of the full trajectory\n",
        "  \"\"\"\n",
        "\n",
        "  # Init velocity vector\n",
        "  velocity = Vec2d(speed, 0)\n",
        "\n",
        "  BM_2d_df = pd.DataFrame(columns = ['x_pos', 'y_pos'])\n",
        "  temp_df = pd.DataFrame([{'x_pos': s_pos[0], 'y_pos': s_pos[1]}])\n",
        "\n",
        "  BM_2d_df = pd.concat([BM_2d_df, temp_df], ignore_index=True)\n",
        "\n",
        "  for i in range(n_steps-1):\n",
        "    turn_angle = np.random.uniform(low=-np.pi, high=np.pi)\n",
        "    velocity = velocity.rotated(turn_angle)\n",
        "\n",
        "    temp_df = pd.DataFrame([{'x_pos': BM_2d_df.x_pos[i]+velocity.x, 'y_pos': BM_2d_df.y_pos[i]+velocity.y}])\n",
        "\n",
        "    BM_2d_df = pd.concat([BM_2d_df, temp_df], ignore_index=True)\n",
        "\n",
        "  return BM_2d_df"
      ],
      "metadata": {
        "id": "__yelDz1HsH8"
      },
      "execution_count": 4,
      "outputs": []
    },
    {
      "cell_type": "code",
      "source": [
        "###############################################################################################\n",
        "# Correlated Random Walk\n",
        "# This function generates a CRW Walk\n",
        "###############################################################################################\n",
        "def crw(n_steps=1000, speed=5, s_pos=[0,0], CRW_exponent = 0.5):\n",
        "  \"\"\"\n",
        "  Arguments:\n",
        "    n_steps: number of steps the Brownian Trajectory will take -> int\n",
        "    speed: speed of the trajectory or step size -> int\n",
        "    s_pos: initial position -> [x,y] list\n",
        "  Returns:\n",
        "    CRW_df: DataFrame with x,y points of the full trajectory\n",
        "  \"\"\"\n",
        "  #Init DFs\n",
        "  CRW_df = pd.DataFrame(columns=['x_pos', 'y_pos'])\n",
        "  temp_df = pd.DataFrame([{'x_pos': s_pos[0], 'y_pos': s_pos[1]}])\n",
        "  CRW_df = pd.concat([CRW_df, temp_df], ignore_index=True)\n",
        "\n",
        "  # Init velocity vector\n",
        "  velocity = Vec2d(speed,0)\n",
        "\n",
        "  for i in range(n_steps-1):\n",
        "    # Select turn angle\n",
        "    turn_angle = wrapcauchy.rvs(c=CRW_exponent)\n",
        "    #\n",
        "    velocity = velocity.rotated(turn_angle)\n",
        "    #Update position\n",
        "    temp_df = pd.DataFrame([{'x_pos': CRW_df.x_pos[i]+velocity.x, 'y_pos': CRW_df.y_pos[i]+velocity.y}])\n",
        "    CRW_df = pd.concat ([CRW_df,temp_df], ignore_index=True)\n",
        "  return CRW_df"
      ],
      "metadata": {
        "id": "iZaZFzUtHwpJ"
      },
      "execution_count": 5,
      "outputs": []
    },
    {
      "cell_type": "code",
      "source": [
        "###############################################################################################\n",
        "# Levy flight\n",
        "# This function generates a levy flight\n",
        "###############################################################################################\n",
        "def levy_flight(n_steps=1000, init_speed = 5, s_pos=[0,0], CRW_exponent = 0.5, alpha = 1.5, beta = 0, loc=3.0):\n",
        "  #Init DFs\n",
        "  Levy_df = pd.DataFrame(columns=['x_pos', 'y_pos'])\n",
        "  temp_df = pd.DataFrame([{'x_pos': s_pos[0], 'y_pos': s_pos[1]}])\n",
        "  Levy_df = pd.concat([Levy_df, temp_df], ignore_index=True)\n",
        "\n",
        "  # Init velocity vector\n",
        "  velocity = Vec2d(init_speed,0)\n",
        "\n",
        "  for i in range(n_steps-1):\n",
        "    # Select turn angle\n",
        "    turn_angle = wrapcauchy.rvs(c=CRW_exponent)\n",
        "    #step size\n",
        "    step_size = levy_stable.rvs(alpha=alpha, beta=beta, loc=loc)\n",
        "\n",
        "    velocity = velocity.rotated(turn_angle)\n",
        "    #Update position\n",
        "    temp_df = pd.DataFrame([{'x_pos': Levy_df.x_pos[i]+(velocity.x*step_size), 'y_pos': Levy_df.y_pos[i]+(velocity.y*step_size)}])\n",
        "    Levy_df = pd.concat ([Levy_df,temp_df], ignore_index=True)\n",
        "  return Levy_df"
      ],
      "metadata": {
        "id": "2z6IuCt1IbUz"
      },
      "execution_count": 6,
      "outputs": []
    },
    {
      "cell_type": "code",
      "source": [
        "#######################################################################################################\n",
        "# Euclidean distance\n",
        "# This function estimates euclidean distance between two points\n",
        "#######################################################################################################\n",
        "def euclidean_distance(q, p):\n",
        "  a2 = (q[0] - p[0])**2\n",
        "  b2 = (q[1] - p[1])**2\n",
        "  c = math.sqrt(a2+b2)\n",
        "  return c\n",
        "\n",
        "#######################################################################################################\n",
        "# Path length calculation\n",
        "# This function estimates the total path length based on euclidean distance between consecutive steps\n",
        "#######################################################################################################\n",
        "def path_length(trajectory):\n",
        "  \"\"\"\n",
        "  Arguments:\n",
        "    trajectory: Data set containing complete trajectory\n",
        "  Returns:\n",
        "    distance: calculated euclidean distance between 2 points\n",
        "  \"\"\"\n",
        "  dis_aux = []\n",
        "  for i in range (1,trajectory.shape[0]):\n",
        "    dis_aux.append(euclidean_distance(trajectory.iloc[i-1], trajectory.iloc[i]))\n",
        "  return pd.DataFrame(np.cumsum(dis_aux), columns=['PL'])"
      ],
      "metadata": {
        "id": "zdKc7k_0JyFI"
      },
      "execution_count": 7,
      "outputs": []
    },
    {
      "cell_type": "code",
      "source": [
        "#######################################################################################################\n",
        "# Mean Squared Displacement\n",
        "# This function estimates the MSD\n",
        "#######################################################################################################\n",
        "def msd(trajectory, n=50):\n",
        "  \"\"\"\n",
        "  Arguments:\n",
        "    trajectory: Data set containing complete trajectory\n",
        "    n: Window size\n",
        "  Returns:\n",
        "    msd_df: calculated mean squared\n",
        "  \"\"\"\n",
        "  displacement_vec = np.array([euclidean_distance(trajectory.iloc[i-n], trajectory.iloc[i])**2 for i in range(n, trajectory.shape[0],1)])\n",
        "  msd_df = pd.DataFrame(np.cumsum(displacement_vec)/(trajectory.shape[0] - n), columns=['MSD'])\n",
        "  return msd_df"
      ],
      "metadata": {
        "id": "2QO-h8_0J1Hy"
      },
      "execution_count": 8,
      "outputs": []
    },
    {
      "cell_type": "markdown",
      "source": [
        "#Dashboard implementation"
      ],
      "metadata": {
        "id": "eK4mU9nlJeEq"
      }
    },
    {
      "cell_type": "code",
      "source": [],
      "metadata": {
        "id": "A1tXFuqWJjNu"
      },
      "execution_count": null,
      "outputs": []
    }
  ]
}