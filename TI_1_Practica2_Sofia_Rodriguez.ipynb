{
  "cells": [
    {
      "cell_type": "markdown",
      "metadata": {
        "id": "view-in-github",
        "colab_type": "text"
      },
      "source": [
        "<a href=\"https://colab.research.google.com/github/SofiaRguez1020/Topicos_Industria_I/blob/main/TI_1_Practica2_Sofia_Rodriguez.ipynb\" target=\"_parent\"><img src=\"https://colab.research.google.com/assets/colab-badge.svg\" alt=\"Open In Colab\"/></a>"
      ]
    },
    {
      "cell_type": "markdown",
      "id": "bbeb0c1e",
      "metadata": {
        "id": "bbeb0c1e"
      },
      "source": [
        "# Práctica 2\n",
        "\n",
        "**Nombre:** Sofia Daniela Rodriguez Saenz\n",
        "\n",
        "**e-mail:** sofia.rodriguez5540@alumnos.udg.mx"
      ]
    },
    {
      "cell_type": "markdown",
      "id": "a31326d0",
      "metadata": {
        "id": "a31326d0"
      },
      "source": [
        "## MODULES"
      ]
    },
    {
      "cell_type": "code",
      "execution_count": 1,
      "id": "9c33a472",
      "metadata": {
        "id": "9c33a472"
      },
      "outputs": [],
      "source": [
        "import math\n",
        "import numpy as np\n",
        "import matplotlib.pyplot as plt\n",
        "import pandas as pd\n",
        "\n",
        "from plotly.subplots import make_subplots\n",
        "import plotly.graph_objects as go\n",
        "\n",
        "\n",
        "from scipy.stats import wrapcauchy\n",
        "from scipy.stats import levy_stable"
      ]
    },
    {
      "cell_type": "markdown",
      "id": "eea985c3",
      "metadata": {
        "id": "eea985c3"
      },
      "source": [
        "## CLASSES"
      ]
    },
    {
      "cell_type": "code",
      "execution_count": 2,
      "id": "e2ee1ad4",
      "metadata": {
        "id": "e2ee1ad4"
      },
      "outputs": [],
      "source": [
        "################# http://www.pygame.org/wiki/2DVectorClass ##################\n",
        "class Vec2d(object):\n",
        "    \"\"\"2d vector class, supports vector and scalar operators,\n",
        "       and also provides a bunch of high level functions\n",
        "       \"\"\"\n",
        "    __slots__ = ['x', 'y']\n",
        "\n",
        "    def __init__(self, x_or_pair, y = None):\n",
        "        if y == None:\n",
        "            self.x = x_or_pair[0]\n",
        "            self.y = x_or_pair[1]\n",
        "        else:\n",
        "            self.x = x_or_pair\n",
        "            self.y = y\n",
        "\n",
        "    # Addition\n",
        "    def __add__(self, other):\n",
        "        if isinstance(other, Vec2d):\n",
        "            return Vec2d(self.x + other.x, self.y + other.y)\n",
        "        elif hasattr(other, \"__getitem__\"):\n",
        "            return Vec2d(self.x + other[0], self.y + other[1])\n",
        "        else:\n",
        "            return Vec2d(self.x + other, self.y + other)\n",
        "\n",
        "    # Subtraction\n",
        "    def __sub__(self, other):\n",
        "        if isinstance(other, Vec2d):\n",
        "            return Vec2d(self.x - other.x, self.y - other.y)\n",
        "        elif (hasattr(other, \"__getitem__\")):\n",
        "            return Vec2d(self.x - other[0], self.y - other[1])\n",
        "        else:\n",
        "            return Vec2d(self.x - other, self.y - other)\n",
        "\n",
        "    # Vector length\n",
        "    def get_length(self):\n",
        "        return math.sqrt(self.x**2 + self.y**2)\n",
        "\n",
        "    # rotate vector\n",
        "    def rotated(self, angle):\n",
        "        cos = math.cos(angle)\n",
        "        sin = math.sin(angle)\n",
        "        x = self.x*cos - self.y*sin\n",
        "        y = self.x*sin + self.y*cos\n",
        "        return Vec2d(x, y)"
      ]
    },
    {
      "cell_type": "markdown",
      "id": "680109c9",
      "metadata": {
        "id": "680109c9"
      },
      "source": []
    },
    {
      "cell_type": "markdown",
      "id": "308b81d9",
      "metadata": {
        "id": "308b81d9"
      },
      "source": [
        "## Actividad 1: Lévy distribution - N Curves (3 pts)\n",
        "\n",
        "* Generar al menos las 4 curvas de distribución timpo Lévy stable que se observan en la imagen.\n",
        "* Visualizar con **plotly**.\n",
        "\n",
        "* Parametros m = 3.0, Levy_exponent = x, beta = 0"
      ]
    },
    {
      "cell_type": "code",
      "execution_count": 3,
      "id": "58627d1c",
      "metadata": {
        "id": "58627d1c"
      },
      "outputs": [],
      "source": [
        "#Init Params\n",
        "m = 3.0\n",
        "beta = 0\n",
        "n_curves = 10\n",
        "\n",
        "#Creates aux domain for levy distribution resolution\n",
        "aux_domain = np.linspace(m-5, m+5, 500)\n",
        "\n",
        "#Create a list of alpha values based on the number of curves\n",
        "alpha_vals = np.random.uniform(low=0.1, high=2.5, size=n_curves)\n",
        "\n",
        "#Create aux variable to save all curves\n",
        "levy_curves = {}\n",
        "\n",
        "#Create n levy distribution curves\n",
        "for i in range(n_curves):\n",
        "  levy_pdf = np.array(levy_stable.pdf(aux_domain, alpha=alpha_vals[i], beta=beta, loc=m))\n",
        "  levy_curves['Levy_'+str(alpha_vals[i])] = levy_pdf\n",
        "\n"
      ]
    },
    {
      "cell_type": "code",
      "source": [
        "\n",
        "#Creates plotly object\n",
        "fig_Levy_pdf = go.Figure()\n",
        "\n",
        "#Graph all PDF curves\n",
        "for name, levy_pdf in levy_curves.items():\n",
        "  fig_Levy_pdf.add_trace(go.Scatter(x = aux_domain,\n",
        "                                    y = levy_pdf,\n",
        "                                    marker = dict(size=2),\n",
        "                                    mode = 'lines',\n",
        "                                    name = name,\n",
        "                                    showlegend = True))\n",
        "\n",
        "#Set title\n",
        "fig_Levy_pdf.update_layout(title_text = 'Levy PDF N Curves')\n",
        "#Show PDF curves\n",
        "fig_Levy_pdf.show()"
      ],
      "metadata": {
        "colab": {
          "base_uri": "https://localhost:8080/",
          "height": 250
        },
        "id": "tZ18a4961Acs",
        "outputId": "5e89170d-fa98-49cb-913c-244bf00ab6c4"
      },
      "id": "tZ18a4961Acs",
      "execution_count": 5,
      "outputs": [
        {
          "output_type": "error",
          "ename": "NameError",
          "evalue": "name 'levy_curves' is not defined",
          "traceback": [
            "\u001b[0;31m---------------------------------------------------------------------------\u001b[0m",
            "\u001b[0;31mNameError\u001b[0m                                 Traceback (most recent call last)",
            "\u001b[0;32m<ipython-input-5-f0b9f27e729f>\u001b[0m in \u001b[0;36m<cell line: 4>\u001b[0;34m()\u001b[0m\n\u001b[1;32m      2\u001b[0m \u001b[0mfig_Levy_pdf\u001b[0m \u001b[0;34m=\u001b[0m \u001b[0mgo\u001b[0m\u001b[0;34m.\u001b[0m\u001b[0mFigure\u001b[0m\u001b[0;34m(\u001b[0m\u001b[0;34m)\u001b[0m\u001b[0;34m\u001b[0m\u001b[0;34m\u001b[0m\u001b[0m\n\u001b[1;32m      3\u001b[0m \u001b[0;34m\u001b[0m\u001b[0m\n\u001b[0;32m----> 4\u001b[0;31m \u001b[0;32mfor\u001b[0m \u001b[0mname\u001b[0m\u001b[0;34m,\u001b[0m \u001b[0mlevy_pdf\u001b[0m \u001b[0;32min\u001b[0m \u001b[0mlevy_curves\u001b[0m\u001b[0;34m.\u001b[0m\u001b[0mitems\u001b[0m\u001b[0;34m(\u001b[0m\u001b[0;34m)\u001b[0m\u001b[0;34m:\u001b[0m\u001b[0;34m\u001b[0m\u001b[0;34m\u001b[0m\u001b[0m\n\u001b[0m\u001b[1;32m      5\u001b[0m   fig_Levy_pdf.add_trace(go.Scatter(x = aux_domain,\n\u001b[1;32m      6\u001b[0m                                     \u001b[0my\u001b[0m \u001b[0;34m=\u001b[0m \u001b[0mlevy_pdf\u001b[0m\u001b[0;34m,\u001b[0m\u001b[0;34m\u001b[0m\u001b[0;34m\u001b[0m\u001b[0m\n",
            "\u001b[0;31mNameError\u001b[0m: name 'levy_curves' is not defined"
          ]
        }
      ]
    },
    {
      "cell_type": "markdown",
      "id": "c4ea7d32",
      "metadata": {
        "id": "c4ea7d32"
      },
      "source": [
        "## Actividad 2: Lévy distribution - Histogram + Curve (4 pts)\n",
        "\n",
        "* A partir de un conjunto de valores aleatorios extraidos de una distribución tipo Lévy stable, obtener su histograma y comparar con la curva correspondiente PDF.\n",
        "* Visualizar con **matplotlib**."
      ]
    },
    {
      "cell_type": "code",
      "execution_count": null,
      "id": "7c5082a3",
      "metadata": {
        "id": "7c5082a3"
      },
      "outputs": [],
      "source": [
        "test5=0"
      ]
    },
    {
      "cell_type": "markdown",
      "id": "bcc0bb18",
      "metadata": {
        "id": "bcc0bb18"
      },
      "source": [
        "## Actividad 3: Lévy ﬂight - Vec2d - 1 Trajectory (6 pts)\n",
        "\n",
        "* Utilizar **Vec2d**.\n",
        "* Guardar trayectorias en **Pandas** Data Frame.\n",
        "* Visualizar proyección en 3d con **plotly**."
      ]
    },
    {
      "cell_type": "code",
      "execution_count": null,
      "id": "147f549b",
      "metadata": {
        "id": "147f549b"
      },
      "outputs": [],
      "source": [
        "test4 = 0"
      ]
    },
    {
      "cell_type": "markdown",
      "id": "6bc5c5b6",
      "metadata": {
        "id": "6bc5c5b6"
      },
      "source": [
        "## Actividad 4: Correlated Random Walk - Vec2d - N Trajectories (7 pts)\n",
        "\n",
        "* Generar tantas trayectorias tipo CRW como se especifique en una variable **n_traj**.\n",
        "* Cada una de las trayectorias debera tener un coeficiente de Cauchy diferente.\n",
        "* Utilizar **Vec2d**.\n",
        "* Guardar trayectorias en **Pandas** Data Frame.\n",
        "* Visualizar proyección en 3d con **plotly**.\n",
        "* Exportar el Data Frame con las trayectorias a un archivo tipo *pkl*."
      ]
    },
    {
      "cell_type": "code",
      "execution_count": null,
      "id": "68b774d1",
      "metadata": {
        "id": "68b774d1"
      },
      "outputs": [],
      "source": [
        "test = 0\n",
        "test2= 3"
      ]
    }
  ],
  "metadata": {
    "colab": {
      "provenance": [],
      "toc_visible": true,
      "include_colab_link": true
    },
    "kernelspec": {
      "display_name": "py310_nb",
      "language": "python",
      "name": "py310_nb"
    },
    "language_info": {
      "codemirror_mode": {
        "name": "ipython",
        "version": 3
      },
      "file_extension": ".py",
      "mimetype": "text/x-python",
      "name": "python",
      "nbconvert_exporter": "python",
      "pygments_lexer": "ipython3",
      "version": "3.10.5"
    }
  },
  "nbformat": 4,
  "nbformat_minor": 5
}